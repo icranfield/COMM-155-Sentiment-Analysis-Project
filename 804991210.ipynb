{
 "cells": [
  {
   "cell_type": "markdown",
   "metadata": {},
   "source": [
    "# Project\n",
    "### In this notebook, we will import reviews from csv files and analyze correlation between sentiment and ratings\n",
    "COMM 155 - Artificial Intelligence and New Media, Spring Quarter 2019, Prof. J. Joo, TA Kaushik Mahorker\n",
    "\n",
    "**Due date:** Mar 12th, 2020 23:59 via CCLE\n",
    "\n",
    "**You only need to code between the commented sections. Any code outside of it is for formatting purposes and should not be modified.**"
   ]
  },
  {
   "cell_type": "markdown",
   "metadata": {},
   "source": [
    "### Import packages\n",
    "You will need to use numpy, nltk, csv, and SentimentIntensityAnalyzer (from nltk.sentiment.vader)."
   ]
  },
  {
   "cell_type": "code",
   "execution_count": 1,
   "metadata": {},
   "outputs": [
    {
     "name": "stderr",
     "output_type": "stream",
     "text": [
      "[nltk_data] Downloading package punkt to\n",
      "[nltk_data]     /Users/icranfield/nltk_data...\n",
      "[nltk_data]   Package punkt is already up-to-date!\n",
      "[nltk_data] Downloading package vader_lexicon to\n",
      "[nltk_data]     /Users/icranfield/nltk_data...\n",
      "[nltk_data]   Package vader_lexicon is already up-to-date!\n"
     ]
    }
   ],
   "source": [
    "##############################################################################\n",
    "# TODO: Your code below                                                    #\n",
    "##############################################################################\n",
    "\n",
    "from nltk.sentiment.vader import SentimentIntensityAnalyzer\n",
    "import numpy as np\n",
    "import csv\n",
    "import nltk\n",
    "nltk.download('punkt')\n",
    "nltk.download('vader_lexicon')\n",
    "pass\n",
    "\n",
    "\n",
    "# imported the modules to use numpy, nltk, csv, and SentimentIntensityAnalyzer\n",
    "\n",
    "\n",
    "##############################################################################\n",
    "#                             END OF YOUR CODE                               #\n",
    "##############################################################################"
   ]
  },
  {
   "cell_type": "markdown",
   "metadata": {},
   "source": [
    "#### The following function can be used to draw a box plot.  \n",
    "\n",
    "**Input:**  \n",
    " rating_list: a list of numeric ratings  \n",
    " sentiment_list: a list of sentimeny analysis results obtained by NLTK (only the \"compound\" part)"
   ]
  },
  {
   "cell_type": "code",
   "execution_count": 2,
   "metadata": {},
   "outputs": [],
   "source": [
    "%matplotlib inline\n",
    "\n",
    "def draw_box_plot(rating_list, sentiment_list): # function that creates the box plot with rating_list and sentiment_list\n",
    "    import matplotlib.pyplot as plt\n",
    "    rset = sorted(set(rating_list))\n",
    "    sentall = []\n",
    "    for r in rset:\n",
    "        sentlist = []\n",
    "        for i, rval in enumerate(rating_list):\n",
    "            if (rval == r):\n",
    "                sentlist.append(sentiment_list[i])\n",
    "        sentall.append(sentlist)\n",
    "\n",
    "    plt.figure()\n",
    "    plt.boxplot(sentall, labels=rset)\n",
    "    plt.xlabel('Ratings')\n",
    "    plt.ylabel('Sentiment')"
   ]
  },
  {
   "cell_type": "markdown",
   "metadata": {},
   "source": [
    "### Read amazon.csv file\n",
    "You will need to use the `csv.reader` function"
   ]
  },
  {
   "cell_type": "code",
   "execution_count": 3,
   "metadata": {},
   "outputs": [],
   "source": [
    "##############################################################################\n",
    "# TODO: Your code below                                                    #\n",
    "##############################################################################\n",
    "# open csv file, and assign it to a handler\n",
    "\n",
    "import csv \n",
    "csvfile = open(\"amazon.csv\",\"r\") # reads and open the amazon csv file \n",
    "\n",
    "# create csv reader, and assign to an intermediate object\n",
    "csv_reader = csv.reader(csvfile) # assigns it to an intermediate object\n",
    "\n",
    "# cast the intermediate object to a list\n",
    "amazon = list(csv_reader) # puts the contents of the amazon.csv file into a list \n",
    "\n",
    "# close the csv file\n",
    "csvfile.close() # closes the file\n",
    "\n",
    "##############################################################################\n",
    "#                             END OF YOUR CODE                               #\n",
    "##############################################################################"
   ]
  },
  {
   "cell_type": "markdown",
   "metadata": {},
   "source": [
    "### Extract comment and ratings, then calculate compound scores.\n",
    "You will need to use the `polarity_scores`function under the `SentimentIntensityAnalyzer` to calculate the compound score  \n",
    "This may take a few minutes, decided by your computer's computational speed.\n",
    "\n",
    "The first ten reviews' ratings should be `5, 4, 2, 5, 5, 3, 1, 5, 4, 5`  \n",
    "The first ten reviews' sentiment should be `0.9774, -0.5267, 0.6486, 0.443, 0.7902, 0.6956, 0.4491, 0.945, 0.8074, 0.9105`"
   ]
  },
  {
   "cell_type": "code",
   "execution_count": 11,
   "metadata": {},
   "outputs": [],
   "source": [
    "##############################################################################\n",
    "# TODO: Your code below                                                    #\n",
    "##############################################################################\n",
    "# extract comments and ratings\n",
    "\n",
    "comments = []                  # empty list so we can add all the comments from the amazon.csv file into it \n",
    "for com in amazon[1:5001]:     # goes through all the comments in element 0 of the amazon list and inserts into comments list \n",
    "    comments.append(com[0])\n",
    "\n",
    "\n",
    "rating_list = []              # repeats the step for the comments but uses element 1 to insert all the ratings into a separate list \n",
    "for rate in amazon [1:5001]: # all 5000 in the file\n",
    "    rating_list.append(float(rate[1])) # makes the contents a float so it will match the compound float values when we find the sentiment compound of the comments \n",
    "\n",
    "# print(rating_list) ##if want to print the ratings list\n",
    "\n",
    "\n",
    "# feed comments into classifier and save sentiment\n",
    "sid = SentimentIntensityAnalyzer()\n",
    "sentiment_list = []\n",
    "for sentence in comments:\n",
    "    scores = sid.polarity_scores(sentence)['compound'] # only compound score \n",
    "    sentiment_list.append(float(scores)) # turns the scores into float values and is added to the sentiment list\n",
    "\n",
    "# print(sentiment_list, \"\\n\") ## prints out the sentiment list\n",
    "\n",
    "##############################################################################\n",
    "#                             END OF YOUR CODE                               #\n",
    "##############################################################################"
   ]
  },
  {
   "cell_type": "markdown",
   "metadata": {},
   "source": [
    "### Print the correlation between ratings and classified sentiments using numpy.corrcoef"
   ]
  },
  {
   "cell_type": "code",
   "execution_count": 5,
   "metadata": {},
   "outputs": [
    {
     "name": "stdout",
     "output_type": "stream",
     "text": [
      "The correlation is: \n",
      " [[1.         0.41715484]\n",
      " [0.41715484 1.        ]]\n"
     ]
    }
   ],
   "source": [
    "##############################################################################\n",
    "# TODO: Your code below                                                    #\n",
    "##############################################################################\n",
    "\n",
    "cor = np.corrcoef(rating_list,sentiment_list) # uses the numpy module corrcoef to find the correlation of the rating list and sentiment list\n",
    "print(\"The correlation is:\",'\\n',cor)\n",
    "\n",
    "##############################################################################\n",
    "#                             END OF YOUR CODE                               #\n",
    "##############################################################################"
   ]
  },
  {
   "cell_type": "markdown",
   "metadata": {},
   "source": [
    "### Questions:\n",
    "**What is the correlation factor?**"
   ]
  },
  {
   "cell_type": "markdown",
   "metadata": {},
   "source": [
    "**Answer:** The correlation factor is 0.41715484"
   ]
  },
  {
   "cell_type": "markdown",
   "metadata": {},
   "source": [
    "### Draw a box plot using draw_box_plot()"
   ]
  },
  {
   "cell_type": "code",
   "execution_count": 6,
   "metadata": {},
   "outputs": [
    {
     "data": {
      "image/png": "[encoded data removed]",
      "text/plain": [
       "<Figure size 432x288 with 1 Axes>"
      ]
     },
     "metadata": {
      "needs_background": "light"
     },
     "output_type": "display_data"
    }
   ],
   "source": [
    "##############################################################################\n",
    "# TODO: Your code below                                                    #\n",
    "##############################################################################\n",
    "\n",
    "draw_box_plot(rating_list, sentiment_list) # this draws the box plot below \n",
    "\n",
    "\n",
    "##############################################################################\n",
    "#                             END OF YOUR CODE                               #\n",
    "##############################################################################"
   ]
  },
  {
   "cell_type": "markdown",
   "metadata": {},
   "source": [
    "### Questions:\n",
    "**From the box plot, what can you tell about the review sentiments and ratings? (What kind of properties can you identify)**"
   ]
  },
  {
   "cell_type": "markdown",
   "metadata": {},
   "source": [
    "**Answer:**  \n",
    "With a box plot, we can analyze the data that shows a distribution and relationship between ratings and sentiment. When the product received a rating of 1, the box plot has a median sentiment score close to 0.10, which is lower than all of the other box plots. However, the range between the 75th percentile and 25th percentile is larger than the ranges of the other boxes. With a rating of 1, it also shows it had a maxiumim at 1 and -1 for sentiment. With the rating of 5, it has the highest median value of sentiment at 0.90. It makes sense because positive language with a higher sentiment value will result with a higher rating. Besides showing the median value, the Interquartile Range (the whole box from 25th percentile to 75th percentile), the maxiumum and minimum sentiment values, it also shows any outliers (the dots) that did not fit the assumptions made on the box plot. "
   ]
  },
  {
   "cell_type": "markdown",
   "metadata": {
    "collapsed": true
   },
   "source": [
    "### Repeat the same analysis for beer.csv and movie.csv separately.  \n",
    "*For `beer.csv`, use `open(\"beer.csv\", encoding=\"utf-8\")` instead*  \n",
    "*For movie, cast the review to the right type*"
   ]
  },
  {
   "cell_type": "code",
   "execution_count": 12,
   "metadata": {},
   "outputs": [
    {
     "name": "stdout",
     "output_type": "stream",
     "text": [
      "The correlation is: \n",
      " [[1.         0.51653668]\n",
      " [0.51653668 1.        ]]\n"
     ]
    },
    {
     "data": {
      "image/png": "[encoded data removed]",
      "text/plain": [
       "<Figure size 432x288 with 1 Axes>"
      ]
     },
     "metadata": {
      "needs_background": "light"
     },
     "output_type": "display_data"
    }
   ],
   "source": [
    "# For beer\n",
    "\n",
    "##############################################################################\n",
    "# TODO: Your code below                                                    #\n",
    "##############################################################################\n",
    "\n",
    "import csv \n",
    "csvfile = open(\"beer.csv\",encoding=\"utf-8\") # opens the csv file for beer, and encodes the file to a certain type\n",
    "\n",
    "# create csv reader, and assign to an intermediate object\n",
    "csv_reader = csv.reader(csvfile)\n",
    "\n",
    "# cast the intermediate object to a list\n",
    "beer = list(csv_reader)\n",
    "# close the csv file\n",
    "csvfile.close()\n",
    "\n",
    "\n",
    "comments = []    # similar to before, it takes all the comments from the csv file and puts it into a list. \n",
    "for com in beer[1:5001]:\n",
    "    comments.append(com[0])\n",
    "#print(comments)\n",
    "\n",
    "rating_list = [] \n",
    "for rate in beer[1:5001]:   # uses a for loop to get the values from element 1 to insert all the ratings into a separate list \n",
    "    rating_list.append(float(rate[1]))  # makes the contents a float so it will match the compound float values when we find the sentiment compound of the comments \n",
    "\n",
    "# print(rating_list) ##if want to print the ratings list\n",
    "\n",
    "# feed comments into classifier and save sentiment\n",
    "\n",
    "sid = SentimentIntensityAnalyzer()\n",
    "sentiment_list = []\n",
    "for sentence in comments:\n",
    "    scores = sid.polarity_scores(sentence)['compound'] #takes only compound score\n",
    "    sentiment_list.append(float(scores))  # turns the scores into float values and is added to the sentiment list\n",
    "    \n",
    "# print(sentiment_list, \"\\n\") ## prints out the sentiment list\n",
    "\n",
    "\n",
    "cor = np.corrcoef(rating_list,sentiment_list) # uses the numpy module corrcoef to find the correlation of the rating and sentiment \n",
    "print(\"The correlation is:\",'\\n',cor)\n",
    "\n",
    "draw_box_plot(rating_list, sentiment_list) # draws the box plot\n",
    "\n",
    "\n",
    "\n",
    "##############################################################################\n",
    "#                             END OF YOUR CODE                               #\n",
    "##############################################################################"
   ]
  },
  {
   "cell_type": "markdown",
   "metadata": {},
   "source": [
    "### Questions:\n",
    "**Compared to the previous box plot, what can you tell about the beer review sentiments and ratings? (Point out major differences)**"
   ]
  },
  {
   "cell_type": "markdown",
   "metadata": {},
   "source": [
    "**Answer:**  \n",
    "The previous box plot only had a 1-5 rating score because that was the range of the data's ratings. This box plot rating scale is 1-19 because in the csv file for beer, the ratings are on the scale of 1 to 19. In the previous one, we did not have negative sentiment values, so this boxplot is more accurate as it depicts a lower sentiment score to a lower rating. However, the boxplot for rating 2 has a higher median and Interquartile range than rating 3, so this might have skewed the correlation between ratings and sentiment by a little. The correlation factor for beer is 0.517 and is higher than the correlation factor of the amazon file. This shows that the language used and ratings given is more correlative than the ratings given in the amazon file. The boxplot also show less outliers than the boxplots in the amazon csv file analysis. "
   ]
  },
  {
   "cell_type": "code",
   "execution_count": 9,
   "metadata": {},
   "outputs": [
    {
     "name": "stdout",
     "output_type": "stream",
     "text": [
      "The correlation is: \n",
      " [[1.         0.39781475]\n",
      " [0.39781475 1.        ]]\n"
     ]
    },
    {
     "data": {
      "image/png": "[encoded data removed]",
      "text/plain": [
       "<Figure size 432x288 with 1 Axes>"
      ]
     },
     "metadata": {
      "needs_background": "light"
     },
     "output_type": "display_data"
    }
   ],
   "source": [
    "# For movie\n",
    "\n",
    "##############################################################################\n",
    "# TODO: Your code below                                                    #\n",
    "##############################################################################\n",
    "\n",
    "import csv \n",
    "csvfile = open(\"movie.csv\",\"r\")\n",
    "\n",
    "# create csv reader, and assign to an intermediate object\n",
    "csv_reader = csv.reader(csvfile)\n",
    "\n",
    "# cast the intermediate object to a list\n",
    "movie = list(csv_reader)\n",
    "# close the csv file\n",
    "csvfile.close()\n",
    "\n",
    "\n",
    "comments = []\n",
    "for com in movie[1:5001]: # similar to before, it takes all the comments from the csv file and puts it into a list.\n",
    "    comments.append(com[0])\n",
    "#print(comments)\n",
    "\n",
    "rating_list = []\n",
    "for rate in movie[1:5001]: # uses a for loop to get the values from element 1 to insert all the ratings into a separate list \n",
    "    rating_list.append(float(rate[1])) # makes the contents a float so it will match the compound float values when we find the sentiment compound of the comments \n",
    "\n",
    "# print(rating_list) ##if want to print the ratings list\n",
    "\n",
    "# feed comments into classifier and save sentiment\n",
    "\n",
    "sid = SentimentIntensityAnalyzer()\n",
    "sentiment_list = []\n",
    "for sentence in comments:\n",
    "    scores = sid.polarity_scores(sentence)['compound'] #takes only compound score\n",
    "    sentiment_list.append(float(scores)) # turns the scores into float values and is added to the sentiment list\n",
    "\n",
    "# print(sentiment_list, \"\\n\") ## prints out the sentiment list\n",
    "\n",
    "cor = np.corrcoef(rating_list,sentiment_list) # uses the numpy module corrcoef to find the correlation of the rating and sentiment\n",
    "print(\"The correlation is:\",'\\n',cor)\n",
    "\n",
    "draw_box_plot(rating_list, sentiment_list) # draws the box plot\n",
    "\n",
    "\n",
    "##############################################################################\n",
    "#                             END OF YOUR CODE                               #\n",
    "##############################################################################"
   ]
  },
  {
   "cell_type": "code",
   "execution_count": 16,
   "metadata": {},
   "outputs": [
    {
     "name": "stderr",
     "output_type": "stream",
     "text": [
      "[nltk_data] Downloading package punkt to\n",
      "[nltk_data]     /Users/icranfield/nltk_data...\n",
      "[nltk_data]   Package punkt is already up-to-date!\n",
      "[nltk_data] Downloading package vader_lexicon to\n",
      "[nltk_data]     /Users/icranfield/nltk_data...\n",
      "[nltk_data]   Package vader_lexicon is already up-to-date!\n"
     ]
    },
    {
     "name": "stdout",
     "output_type": "stream",
     "text": [
      "The correlation is: \n",
      " [[1.         0.41715484]\n",
      " [0.41715484 1.        ]]\n"
     ]
    },
    {
     "data": {
      "image/png": "[encoded data removed]",
      "text/plain": [
       "<Figure size 432x288 with 1 Axes>"
      ]
     },
     "metadata": {
      "needs_background": "light"
     },
     "output_type": "display_data"
    }
   ],
   "source": [
    "##### BONUS QUESTION ######\n",
    "from nltk.sentiment.vader import SentimentIntensityAnalyzer\n",
    "import numpy as np\n",
    "import csv\n",
    "import nltk\n",
    "nltk.download('punkt')\n",
    "nltk.download('vader_lexicon')\n",
    "pass\n",
    "%matplotlib inline\n",
    "\n",
    "def sentiment_analysis(x):\n",
    "   \n",
    "    def draw_box_plot(rating_list, sentiment_list): # function that creates the box plot\n",
    "        import matplotlib.pyplot as plt\n",
    "        rset = sorted(set(rating_list))\n",
    "        sentall = []\n",
    "        for r in rset:\n",
    "            sentlist = []\n",
    "            for i, rval in enumerate(rating_list):\n",
    "                if (rval == r):\n",
    "                    sentlist.append(sentiment_list[i])\n",
    "            sentall.append(sentlist)\n",
    "\n",
    "        plt.figure()\n",
    "        plt.boxplot(sentall, labels=rset)\n",
    "        plt.xlabel('Ratings')\n",
    "        plt.ylabel('Sentiment')\n",
    "    \n",
    "    csvfile = open(x,encoding=\"utf-8\") # create csv reader, and assign to an intermediate object\n",
    "                                        # the x represents the given file name of the function that is being called\n",
    "    csv_reader = csv.reader(csvfile) # cast the intermediate object to a list\n",
    "    list_file = list(csv_reader) \n",
    "    csvfile.close()        # close the csv file\n",
    "\n",
    "    comments = []\n",
    "    for com in list_file[1:len(list_file)]: # adds the comments in a list called comments \n",
    "        comments.append(com[0])             # goes through the comments through the entire length of a given file\n",
    "        \n",
    "    rating_list = []\n",
    "    for rate in list_file[1:len(list_file)]: # adds the ratings as float into rating_list within the file length\n",
    "        rating_list.append(float(rate[1])) \n",
    "        \n",
    "#     print(rating_list) ##if want to print the ratings list\n",
    "    \n",
    "    sid = SentimentIntensityAnalyzer()\n",
    "    sentiment_list = []\n",
    "    for sentence in comments:\n",
    "        scores = sid.polarity_scores(sentence)['compound'] #prints only compund score and adds it in the sentiment_list\n",
    "        sentiment_list.append(float(scores))\n",
    "        \n",
    "#     print(sentiment_list, \"\\n\") ## prints out the sentiment list\n",
    "    \n",
    "    cor = np.corrcoef(rating_list,sentiment_list) # uses the numpy module corrcoef to find the correlation of the rating and sentiment \n",
    "    print(\"The correlation is:\",'\\n',cor)\n",
    "    \n",
    "    draw_box_plot(rating_list, sentiment_list) # calls the function to draw the box plot using rating_list and sentiment_list\n",
    "\n",
    "\n",
    "sentiment_analysis(\"amazon.csv\") # enter csv file name in a string\n",
    "\n"
   ]
  },
  {
   "cell_type": "markdown",
   "metadata": {},
   "source": [
    "### Submit:\n",
    "This .ipynb file with problems completed. Rename this file with your UID. For example: `123456789.ipynb`\n",
    "\n",
    "And an HTML version of this file with the same name: `123456789.html`\n",
    "\n",
    "*Your code must be commented.*"
   ]
  }
 ],
 "metadata": {
  "anaconda-cloud": {},
  "kernelspec": {
   "display_name": "Python 3",
   "language": "python",
   "name": "python3"
  },
  "language_info": {
   "codemirror_mode": {
    "name": "ipython",
    "version": 3
   },
   "file_extension": ".py",
   "mimetype": "text/x-python",
   "name": "python",
   "nbconvert_exporter": "python",
   "pygments_lexer": "ipython3",
   "version": "3.7.4"
  }
 },
 "nbformat": 4,
 "nbformat_minor": 1
}
